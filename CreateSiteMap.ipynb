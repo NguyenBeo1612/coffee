{
 "cells": [
  {
   "cell_type": "code",
   "execution_count": 1,
   "id": "239dfd14",
   "metadata": {},
   "outputs": [],
   "source": [
    "import requests\n",
    "from bs4 import BeautifulSoup"
   ]
  },
  {
   "cell_type": "code",
   "execution_count": 2,
   "id": "82891e84",
   "metadata": {},
   "outputs": [],
   "source": [
    "html=requests.get('https://nguyenbeo.site/')\n",
    "soup = BeautifulSoup(html.content)"
   ]
  },
  {
   "cell_type": "code",
   "execution_count": 3,
   "id": "66cfa730",
   "metadata": {},
   "outputs": [
    {
     "data": {
      "text/plain": [
       "{'#about',\n",
       " '#contact',\n",
       " '#drink',\n",
       " '#special',\n",
       " 'https://hcmunre.edu.vn',\n",
       " 'https://www.facebook.com/sharer/sharer.php?u=https://nguyenbeo1612.github.io/coffee',\n",
       " 'https://www.tiktok.com/@nb16122005'}"
      ]
     },
     "execution_count": 3,
     "metadata": {},
     "output_type": "execute_result"
    }
   ],
   "source": [
    "anchors = soup.select('a')\n",
    "arr = set()\n",
    "for anchor in anchors:\n",
    "    #print(anchor.get('href'))\n",
    "    #break\n",
    "    href = anchor.get('href')\n",
    "    if href and href not in ['#', '/auth/logout', '/member']:\n",
    "        arr.add(href)\n",
    "arr"
   ]
  },
  {
   "cell_type": "code",
   "execution_count": 6,
   "id": "b4e3fdee",
   "metadata": {},
   "outputs": [],
   "source": [
    "import xml.etree.ElementTree as et\n",
    "\n",
    "root = et.Element('urlset')\n",
    "for item in arr:\n",
    "    url = et.SubElement(root, 'url')\n",
    "    loc = et.SubElement(url, 'loc')\n",
    "    loc.text = 'https://nguyenbeo.site/' + item\n",
    "\n",
    "tree = et.ElementTree(root)\n",
    "tree.write('2121_wave_cafesitemap.xml', encoding='UTF-8')"
   ]
  },
  {
   "cell_type": "code",
   "execution_count": 7,
   "id": "4f3a1a4a",
   "metadata": {},
   "outputs": [],
   "source": [
    "import requests\n",
    "from bs4 import BeautifulSoup\n",
    "import xml.etree.ElementTree as et"
   ]
  }
 ],
 "metadata": {
  "kernelspec": {
   "display_name": "base",
   "language": "python",
   "name": "python3"
  },
  "language_info": {
   "codemirror_mode": {
    "name": "ipython",
    "version": 3
   },
   "file_extension": ".py",
   "mimetype": "text/x-python",
   "name": "python",
   "nbconvert_exporter": "python",
   "pygments_lexer": "ipython3",
   "version": "3.13.5"
  }
 },
 "nbformat": 4,
 "nbformat_minor": 5
}
